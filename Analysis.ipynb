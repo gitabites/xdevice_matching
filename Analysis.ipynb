{
 "cells": [
  {
   "cell_type": "code",
   "execution_count": 3,
   "metadata": {
    "collapsed": false
   },
   "outputs": [],
   "source": [
    "import numpy as np\n",
    "from scipy.spatial.distance import pdist, jaccard, squareform, cosine\n",
    "from itertools import combinations\n",
    "import random\n",
    "import sklearn.metrics.pairwise as pair\n",
    "from sklearn.metrics import log_loss\n",
    "import pandas as pd\n",
    "from math import radians, cos, sin, asin, sqrt\n",
    "#from __future__ import divison\n",
    "\n",
    "xids = pd.read_csv('xdevrecon.csv')\n"
   ]
  },
  {
   "cell_type": "code",
   "execution_count": 4,
   "metadata": {
    "collapsed": true
   },
   "outputs": [],
   "source": [
    "\n",
    "#start with our lat/long data. \n",
    "#define the haversine function\n",
    "def haversine(latlon1, latlon2):\n",
    "    lon1 = latlon1[1]\n",
    "    lat1 = latlon1[0]\n",
    "    lon2 = latlon2[1]\n",
    "    lat2 = latlon2[0]\n",
    "    lon1, lat1, lon2, lat2 = map(radians, [lon1, lat1, lon2, lat2])\n",
    "    dlon = lon2 - lon1 \n",
    "    dlat = lat2 - lat1 \n",
    "    a = sin(dlat/2)**2 + cos(lat1) * cos(lat2) * sin(dlon/2)**2\n",
    "    c = 2 * asin(sqrt(a)) \n",
    "    r = 1.0 \n",
    "    return c * r\n",
    "    \n",
    "xids_la = xids.drop_duplicates('xid')\n",
    "X = xids_la[['lat','long']]\n",
    "X\n",
    "dm=pdist(X.as_matrix(), lambda u, v: haversine(u,v))\n",
    "dm\n",
    "q = lambda i,j,n: n*j - j*(j+1)/2 + i - 1 - j\n",
    "ds = squareform( dm )\n",
    "for i in xrange( 1, 4967 ):\n",
    "    for j in xrange( i ):\n",
    "      assert ds[ i, j ] == dm[ q( i, j, 4967 ) ]\n",
    "\n"
   ]
  },
  {
   "cell_type": "code",
   "execution_count": 9,
   "metadata": {
    "collapsed": false
   },
   "outputs": [
    {
     "data": {
      "text/plain": [
       "array([[ 0.        ,  0.07174449,  0.29360641, ...,  0.32783175,\n",
       "         0.06111808,  0.32783175],\n",
       "       [ 0.07174449,  0.        ,  0.23376126, ...,  0.27137671,\n",
       "         0.0107293 ,  0.27137671],\n",
       "       [ 0.29360641,  0.23376126,  0.        , ...,  0.3252554 ,\n",
       "         0.24305431,  0.3252554 ],\n",
       "       ..., \n",
       "       [ 0.32783175,  0.27137671,  0.3252554 , ...,  0.        ,\n",
       "         0.27842507,  0.        ],\n",
       "       [ 0.06111808,  0.0107293 ,  0.24305431, ...,  0.27842507,\n",
       "         0.        ,  0.27842507],\n",
       "       [ 0.32783175,  0.27137671,  0.3252554 , ...,  0.        ,\n",
       "         0.27842507,  0.        ]])"
      ]
     },
     "execution_count": 9,
     "metadata": {},
     "output_type": "execute_result"
    }
   ],
   "source": [
    "ds"
   ]
  },
  {
   "cell_type": "code",
   "execution_count": 10,
   "metadata": {
    "collapsed": true
   },
   "outputs": [],
   "source": [
    "\n",
    "#now let's do our cosine matrix for the categorical data\n",
    "#cats = xids[:5000]\n",
    "cats = xids.drop_duplicates('xid')\n",
    "cats = cats.drop('xid',1)\n",
    "cats = cats.drop('match',1)\n",
    "cats = cats.drop('lco',1)\n",
    "cats = cats.drop('lci',1)\n",
    "cats = cats.drop('lat',1)\n",
    "cats = cats.drop('long',1)\n",
    "cats = pd.get_dummies(cats)\n",
    "catcosdf = 1- pair.cosine_similarity(cats, dense_output=True)\n"
   ]
  },
  {
   "cell_type": "code",
   "execution_count": 11,
   "metadata": {
    "collapsed": false
   },
   "outputs": [
    {
     "data": {
      "text/plain": [
       "array([[  0.00000000e+00,   2.71955992e-01,   5.31358471e-02, ...,\n",
       "          5.17618089e-01,   5.17618089e-01,   5.17618089e-01],\n",
       "       [  2.71955992e-01,   1.11022302e-16,   2.77814619e-01, ...,\n",
       "          5.13167019e-02,   5.13167019e-02,   2.09430585e-01],\n",
       "       [  5.31358471e-02,   2.77814619e-01,  -2.22044605e-16, ...,\n",
       "          5.01727121e-01,   5.01727121e-01,   5.01727121e-01],\n",
       "       ..., \n",
       "       [  5.17618089e-01,   5.13167019e-02,   5.01727121e-01, ...,\n",
       "          1.11022302e-16,   1.11022302e-16,   2.00000000e-01],\n",
       "       [  5.17618089e-01,   5.13167019e-02,   5.01727121e-01, ...,\n",
       "          1.11022302e-16,   1.11022302e-16,   2.00000000e-01],\n",
       "       [  5.17618089e-01,   2.09430585e-01,   5.01727121e-01, ...,\n",
       "          2.00000000e-01,   2.00000000e-01,   0.00000000e+00]])"
      ]
     },
     "execution_count": 11,
     "metadata": {},
     "output_type": "execute_result"
    }
   ],
   "source": [
    "catcosdf"
   ]
  },
  {
   "cell_type": "code",
   "execution_count": 12,
   "metadata": {
    "collapsed": false
   },
   "outputs": [
    {
     "data": {
      "text/plain": [
       "array([[  0.00000000e+00,   1.71850242e-01,   1.73371126e-01, ...,\n",
       "          4.22724919e-01,   2.89368085e-01,   4.22724919e-01],\n",
       "       [  1.71850242e-01,   5.55111512e-17,   2.55787942e-01, ...,\n",
       "          1.61346704e-01,   3.10229999e-02,   2.40403646e-01],\n",
       "       [  1.73371126e-01,   2.55787942e-01,  -1.11022302e-16, ...,\n",
       "          4.13491262e-01,   3.72390716e-01,   4.13491262e-01],\n",
       "       ..., \n",
       "       [  4.22724919e-01,   1.61346704e-01,   4.13491262e-01, ...,\n",
       "          5.55111512e-17,   1.39212533e-01,   1.00000000e-01],\n",
       "       [  2.89368085e-01,   3.10229999e-02,   3.72390716e-01, ...,\n",
       "          1.39212533e-01,   5.55111512e-17,   2.39212533e-01],\n",
       "       [  4.22724919e-01,   2.40403646e-01,   4.13491262e-01, ...,\n",
       "          1.00000000e-01,   2.39212533e-01,   0.00000000e+00]])"
      ]
     },
     "execution_count": 12,
     "metadata": {},
     "output_type": "execute_result"
    }
   ],
   "source": [
    "#now multiply these two matrices to get our total similarity matrix\n",
    "haversine_dist = ds\n",
    "cosine_dist=catcosdf\n",
    "alpha = 0.5\n",
    "y_pred = alpha*haversine_dist + (1-alpha)*cosine_dist \n",
    "y_pred\n"
   ]
  },
  {
   "cell_type": "code",
   "execution_count": 13,
   "metadata": {
    "collapsed": false
   },
   "outputs": [
    {
     "ename": "ValueError",
     "evalue": "total size of new array must be unchanged",
     "output_type": "error",
     "traceback": [
      "\u001b[0;31m---------------------------------------------------------------------------\u001b[0m",
      "\u001b[0;31mValueError\u001b[0m                                Traceback (most recent call last)",
      "\u001b[0;32m<ipython-input-13-a9afe176aacd>\u001b[0m in \u001b[0;36m<module>\u001b[0;34m()\u001b[0m\n\u001b[1;32m     39\u001b[0m \u001b[0;34m\u001b[0m\u001b[0m\n\u001b[1;32m     40\u001b[0m \u001b[0mgood\u001b[0m \u001b[0;34m=\u001b[0m \u001b[0;36m1\u001b[0m\u001b[0;34m\u001b[0m\u001b[0m\n\u001b[0;32m---> 41\u001b[0;31m \u001b[0mix\u001b[0m \u001b[0;34m=\u001b[0m \u001b[0mnp\u001b[0m\u001b[0;34m.\u001b[0m\u001b[0min1d\u001b[0m\u001b[0;34m(\u001b[0m\u001b[0my_true\u001b[0m\u001b[0;34m.\u001b[0m\u001b[0mravel\u001b[0m\u001b[0;34m(\u001b[0m\u001b[0;34m)\u001b[0m\u001b[0;34m,\u001b[0m \u001b[0mgood\u001b[0m\u001b[0;34m)\u001b[0m\u001b[0;34m.\u001b[0m\u001b[0mreshape\u001b[0m\u001b[0;34m(\u001b[0m\u001b[0mx\u001b[0m\u001b[0;34m.\u001b[0m\u001b[0mshape\u001b[0m\u001b[0;34m)\u001b[0m\u001b[0;34m\u001b[0m\u001b[0m\n\u001b[0m\u001b[1;32m     42\u001b[0m \u001b[0mtrue_loc\u001b[0m \u001b[0;34m=\u001b[0m \u001b[0mnp\u001b[0m\u001b[0;34m.\u001b[0m\u001b[0mcolumn_stack\u001b[0m\u001b[0;34m(\u001b[0m\u001b[0mnp\u001b[0m\u001b[0;34m.\u001b[0m\u001b[0mwhere\u001b[0m\u001b[0;34m(\u001b[0m\u001b[0mix\u001b[0m\u001b[0;34m)\u001b[0m\u001b[0;34m)\u001b[0m\u001b[0;34m\u001b[0m\u001b[0m\n\u001b[1;32m     43\u001b[0m \u001b[0;34m\u001b[0m\u001b[0m\n",
      "\u001b[0;31mValueError\u001b[0m: total size of new array must be unchanged"
     ]
    }
   ],
   "source": [
    "\n",
    "\n",
    "\n",
    "\n",
    "\n",
    "\n",
    "#now make our score set\n",
    "#this function creates a dict with the xid and its index position\n",
    "def createMapping(listuniqueid):\n",
    "    mapping = {}\n",
    "    for n,xid in enumerate(listuniqueid):\n",
    "        mapping[xid] = n\n",
    "    return mapping\n",
    "    \n",
    "#this creates a matrix whose l/w are the lengths of the mapping dict    \n",
    "def createGTMatrix(mapping, matches):\n",
    "    m = np.zeros([len(mapping), len(mapping)])\n",
    "    for xid1, xid2 in matches:\n",
    "    \ttry:\n",
    "        \tm[mapping[xid1],mapping[xid2]] = 1\n",
    "        \tm[mapping[xid2],mapping[xid1]] = 1\n",
    "        except IndexError:\n",
    "        \tcontinue\t\n",
    "    return m\n",
    "\n",
    "xids1 = xids\n",
    "#here are my matched pairs\n",
    "matches = xids1[['xid', 'match']]\n",
    "matches = [tuple(x) for x in matches.values]\n",
    "listuniqueid = xids1['xid']\n",
    "\n",
    "mapping = createMapping(listuniqueid.unique())    \n",
    "y_true = createGTMatrix(mapping,matches)\n",
    "\n",
    "X_i_pred = np.argsort(y_pred)[1:]\n",
    "\n",
    "#get only the top predictions per id\n",
    "X_i_preds = X_i_pred[:,:4]\n",
    "\n",
    "good = 1\n",
    "ix = np.in1d(y_true.ravel(), good).reshape(x.shape)\n",
    "true_loc = np.column_stack(np.where(ix))\n",
    "\n",
    "#now want to iterate through values in pred and check if they match the ones in true loc\n",
    "rows = []\n",
    "for i in true_loc:\n",
    "\tfor j in X_i_preds:\n",
    "\t\tif (i[1] == j[1] or i[1] == j[2] or i[1] == j[3]):\n",
    "\t\t\trows.append(1)\n",
    "\t\telse:\n",
    "\t\t\trows.append(0)\n",
    "\n",
    "sum(rows)/len(rows)\t\t\t\t\t\n",
    "\n",
    "\n"
   ]
  }
 ],
 "metadata": {
  "anaconda-cloud": {},
  "kernelspec": {
   "display_name": "Python [conda root]",
   "language": "python",
   "name": "conda-root-py"
  },
  "language_info": {
   "codemirror_mode": {
    "name": "ipython",
    "version": 2
   },
   "file_extension": ".py",
   "mimetype": "text/x-python",
   "name": "python",
   "nbconvert_exporter": "python",
   "pygments_lexer": "ipython2",
   "version": "2.7.12"
  }
 },
 "nbformat": 4,
 "nbformat_minor": 1
}
